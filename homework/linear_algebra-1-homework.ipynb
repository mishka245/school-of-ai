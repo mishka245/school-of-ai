{
 "cells": [
  {
   "cell_type": "code",
   "execution_count": 29,
   "metadata": {},
   "outputs": [
    {
     "name": "stdout",
     "output_type": "stream",
     "text": [
      "The autoreload extension is already loaded. To reload it, use:\n",
      "  %reload_ext autoreload\n"
     ]
    }
   ],
   "source": [
    "%load_ext autoreload\n",
    "%autoreload 2\n",
    "\n",
    "%matplotlib inline"
   ]
  },
  {
   "cell_type": "markdown",
   "metadata": {},
   "source": [
    "## Basic setup"
   ]
  },
  {
   "cell_type": "markdown",
   "metadata": {},
   "source": [
    "Create anaconda environment\n",
    "<br>\n",
    "```bash\n",
    "conda create -n ml python=3.7.4 jupyter\n",
    "```\n",
    "Install fastai library\n",
    "<br>\n",
    "```bash\n",
    "conda install -c pytorch -c fastai fastai\n",
    "```"
   ]
  },
  {
   "cell_type": "markdown",
   "metadata": {},
   "source": [
    "# Set theory basics"
   ]
  },
  {
   "cell_type": "markdown",
   "metadata": {},
   "source": [
    "#### Prove that:\n",
    "<br>\n",
    "$A \\subseteq A$"
   ]
  },
  {
   "cell_type": "markdown",
   "metadata": {},
   "source": [
    "დავუშვათ საწინააღმდეგო, \n",
    "ვთქვათ, $A \\nsubseteq A$\n",
    "აქედან გამომდინარეობს რომ $ \\exists x$, რომ $x \\in A \\land x \\notin A$.\n",
    "\n",
    "მივიღეთ წინააღმდეგობა. ე.ი. მოცემული დებულება ჭეშმარიტია"
   ]
  },
  {
   "cell_type": "markdown",
   "metadata": {},
   "source": [
    "#### Prove that:\n",
    "<br>\n",
    "If $A \\subseteq B$ and $B \\subseteq A$ $\\to$ $A = B$"
   ]
  },
  {
   "cell_type": "markdown",
   "metadata": {},
   "source": [
    "$A \\subseteq B \\Rightarrow$ $ \\forall x, x \\in A, x \\in B$ (1)\n",
    "\n",
    "$B \\subseteq A \\Rightarrow$ $ \\forall x, x \\in B, x \\in A$ (2)\n",
    "\n",
    "(1)-დან და (2)-დან $\\Rightarrow A = B$"
   ]
  },
  {
   "cell_type": "markdown",
   "metadata": {},
   "source": [
    "#### Prove that:\n",
    "<br>\n",
    "if $B \\subset A$ then $A \\cap B = B$"
   ]
  },
  {
   "cell_type": "markdown",
   "metadata": {},
   "source": [
    "ავიღოთ $ \\forall x, x \\in B$  (1)\n",
    "\n",
    "$B \\subset A \\rightarrow x \\in A$  \n",
    "\n",
    "$x \\in A \\land x \\in B \\to x \\in A \\cap B \\$\n",
    "\n",
    "$x \\in A \\cap B \\land x \\in B \\to A \\cap B = B$"
   ]
  },
  {
   "cell_type": "markdown",
   "metadata": {},
   "source": [
    "#### Prove that:\n",
    "<br>\n",
    "$A \\cap B = B \\cap A$"
   ]
  },
  {
   "cell_type": "markdown",
   "metadata": {},
   "source": [
    "$\\forall x, x \\in \\ A \\cap B  \\rightleftarrows x \\in A \\land x \\in B  \\rightleftarrows x \\in B \\land x \\in A  \\rightleftarrows x \\in B \\cap A$"
   ]
  },
  {
   "cell_type": "markdown",
   "metadata": {},
   "source": [
    "#### Prove that:\n",
    "<br>\n",
    "if $B \\subset A$ then $A \\cup B = A$"
   ]
  },
  {
   "cell_type": "markdown",
   "metadata": {},
   "source": [
    "$B \\subset A \\Rightarrow$ $\\forall t, t \\in B \\to t \\in A$ (1)\n",
    "\n",
    "$\\forall x, x \\in A \\cup B  \\rightleftarrows x \\in A \\lor x \\in B $ (2)\n",
    "\n",
    "(1), (2) $ \\Rightarrow A \\cup B = A $"
   ]
  },
  {
   "cell_type": "markdown",
   "metadata": {},
   "source": [
    "#### Prove that:\n",
    "<br>\n",
    "$A \\cup B = B \\cup A$"
   ]
  },
  {
   "cell_type": "markdown",
   "metadata": {},
   "source": [
    "$\\forall x, x \\in A \\cup B  \\rightleftarrows x \\in A \\lor x \\in B  \\rightleftarrows x \\in B \\lor x \\in A  \\rightleftarrows x \\in B \\cup A$"
   ]
  },
  {
   "cell_type": "markdown",
   "metadata": {},
   "source": [
    "#### Prove that:\n",
    "- for every injection $m:A \\to B$ and pair of functions $f, g :C \\to A$: if $m \\circ f = m \\circ g$ then $f = g$ and vice-versa\n",
    "- for every surjection $e:A \\to B$ and every pair of functions $f, g :B \\to C$: if $f \\circ e = g \\circ e$ then $f = g$ and vice-versa"
   ]
  },
  {
   "cell_type": "markdown",
   "metadata": {},
   "source": [
    "Suppose $m:A \\to B$ is any injection , $f, g :C \\to A $   and $m \\circ f = m \\circ g$ , but  $f\\neq g$. so $\\exists x_0 \\in C $ that $f(x_0)\\neq g(x_0)$. Because of $m$ is injection $f(x_0)\\neq g(x_0) \\Rightarrow m(f(x_0))\\neq m(g(x_0))$ . We found one $x_0$ that $(m \\circ f )(x_0)\\neq (m \\circ g)(x_0)$ so $m \\circ f \\neq m \\circ g$ , a contradiction."
   ]
  },
  {
   "cell_type": "markdown",
   "metadata": {},
   "source": [
    "Suppose $e:A \\to B$ is any surjection ,$f, g :B \\to C$, $ f\\circ e = g \\circ e$, but $f\\neq g$. so $\\exists y_0 \\in B $ that $f(y_0)\\neq g(y_0)$.Because of e is surjection , for $ y_0 \\in B  \\Rightarrow \\exists x_0 \\in A $ that $ e(x_0)=y_0$. We found one $x_0 \\in A$ that $(f \\circ e)(x_0)\\neq (g \\circ e)(x_0)$ so $f \\circ e \\neq g \\circ e$ , a contradiction."
   ]
  },
  {
   "cell_type": "markdown",
   "metadata": {},
   "source": [
    "#### Prove that \n",
    "- composition of injections is injection itself\n",
    "- composition of surjections is surjection itself\n",
    "- composition of bijections is bijection itself\n",
    "<br>\n",
    "or give a counterexamples"
   ]
  },
  {
   "cell_type": "markdown",
   "metadata": {},
   "source": [
    "გვაქვს ინექციური ფუნქციები $f : A \\to B$ და $g : B \\to C$ \n",
    "\n",
    "ეს ნიშნავს რომ $\\forall t_1 \\in A, \\forall t_2 \\in A,$ თუ $f(t_1) = f(t_2) \\to t_1=t_2$ და\n",
    "\n",
    "$\\forall t_1 \\in B, \\forall t_2 \\in B,$ თუ $g(t_1) = g(t_2) \\to t_1=t_2$\n",
    "\n",
    "დავუშვათ რომ g და f ფუნქციების კომპოზიცია ინექციაა, მაშინ მივიღებთ  \n",
    "\n",
    "$g \\circ f(t_1) = g \\circ f(t_2)$\n",
    "\n",
    "$g(f(t_1)) = g (f(t_2))$\n",
    "\n",
    "$f(t_1) = f(t_2)$\n",
    "\n",
    "$t_1 = t_2$\n",
    "\n",
    "რ.დ.გ\n",
    "\n",
    "სურექცია და ბიექცია დამტკიდება მსგავსად."
   ]
  },
  {
   "cell_type": "markdown",
   "metadata": {},
   "source": [
    "#### Prove that for each set $A$:\n",
    "- $A \\cong A$\n",
    "- if $B \\cong A$ then $B \\cong A$ for every pair of sets $A$ and $B$\n",
    "- if $A \\cong B$ and $B \\cong C$ then $A \\cong C$ for every triplet $A$, $B$ and $C$"
   ]
  },
  {
   "cell_type": "markdown",
   "metadata": {},
   "source": [
    "#### Prove that:\n",
    "<br>\n",
    "there exists a bijection between set of natural and even numbers"
   ]
  },
  {
   "cell_type": "markdown",
   "metadata": {},
   "source": [
    "ნატურალური რიცხვებია N - {0, 1, 2, 3, . . .}\n",
    "\n",
    "ლუწი რიცხვებია L - {. . . -2, 0, 2, 4, . . .}\n",
    "\n",
    "თუ თითოეულ ლუწ დადებით რიცხვს შევუსაბამებთ ლუწ ნატურალურ რიცხვს და უარყოფით ლუწ რიცხვს შევუსაბამებთ კენტ ნატურალურ რიცხვს შევძლებთ ბიექციის დამყარებას N-დან L-ში.\n",
    "\n",
    "f: N $\\rightarrow$ L\n",
    "\n",
    "\n",
    "$f(n) = \\left\\{\n",
    "  \\begin{array}{lr}\n",
    "    -n & : n \\% 2 == 0\\\\\n",
    "    n + 1 & : n \\% 2 == 1\n",
    "  \\end{array}\n",
    "\\right.\n",
    "$"
   ]
  },
  {
   "cell_type": "markdown",
   "metadata": {},
   "source": [
    "#### Prove that:\n",
    "<br>\n",
    "if we have a bijection between two finite sets than they have an equal number of elements"
   ]
  },
  {
   "cell_type": "markdown",
   "metadata": {},
   "source": [
    "ვთქვათ, გვაქვს ბიექცია A-დან B-ში. \n",
    "\n",
    "დავუშვათ საწინააღმდეგო, ვთქვათ A-სა და B-ში არ არის თანაბარი რაოდენობის ელემენტები.\n",
    "\n",
    "ესეიგი არსებობს რაღაც ელემენტი A-ში რომელსაც არ აქვს მნიშვნელობა B სიმრავლეში ან არსებობს რაღაც ელემენტი B-ში რომელსაც არ აქვს წინასახე A სიმრავლეში. პირობის მიხედვით კი ჩვენ გვაქვს ბიექცია A-დან  B-ში. მივიღეთ წინააღმდეგობა. \n"
   ]
  },
  {
   "cell_type": "markdown",
   "metadata": {},
   "source": [
    "#### Prove that:\n",
    "<br>\n",
    "$A \\times B \\cong B \\times A$"
   ]
  },
  {
   "cell_type": "markdown",
   "metadata": {},
   "source": [
    "$\\cap_{i\\in I}A_i$ and $\\cup_{i\\in I}A_i$"
   ]
  },
  {
   "cell_type": "code",
   "execution_count": 12,
   "metadata": {},
   "outputs": [],
   "source": [
    "# Inplement in python\n",
    "def intersections(*args):\n",
    "    n = len(args)\n",
    "    if not n:\n",
    "        return set()\n",
    "    if n == 1:\n",
    "        return args[0]\n",
    "    result = set()\n",
    "    first = args[0]\n",
    "    in_all = True\n",
    "    for element in first:\n",
    "        for s in args[1:]:\n",
    "            if element not in s:\n",
    "                in_all = False\n",
    "                break\n",
    "        if in_all:\n",
    "            result.add(element)\n",
    "        in_all = True\n",
    "    return result\n",
    "\n",
    "def unions(*args):\n",
    "    n = len(args)\n",
    "    if not n:\n",
    "        return set()\n",
    "    result = set()\n",
    "    for s in args:\n",
    "        for element in s:\n",
    "            if element not in result:\n",
    "                result.add(element)\n",
    "    return result\n"
   ]
  },
  {
   "cell_type": "code",
   "execution_count": 13,
   "metadata": {},
   "outputs": [
    {
     "name": "stdout",
     "output_type": "stream",
     "text": [
      "set()\n",
      "{1, 2, 3}\n",
      "set()\n",
      "{3}\n",
      "\n",
      "set()\n",
      "{1, 2, 3}\n",
      "{1, 2, 3, 4, 5, 6}\n",
      "{1, 2, 3, 6, 7}\n"
     ]
    }
   ],
   "source": [
    "# Test intersections\n",
    "print(intersections())\n",
    "print(intersections({1,2,3}))\n",
    "print(intersections({1,2,3}, {4, 5, 6}))\n",
    "print(intersections({1,2,3}, {1, 3}, {3, 6, 7}))\n",
    "\n",
    "print()\n",
    "\n",
    "# Test unions\n",
    "print(unions())\n",
    "print(unions({1,2,3}))\n",
    "print(unions({1,2,3}, {4, 5, 6}))\n",
    "print(unions({1,2,3}, {1, 3}, {3, 6, 7}))"
   ]
  },
  {
   "cell_type": "markdown",
   "metadata": {},
   "source": [
    "We can also define cartesian product of any \"number\" of sets $\\prod_{i \\in I}{A_i}$"
   ]
  },
  {
   "cell_type": "code",
   "execution_count": 25,
   "metadata": {},
   "outputs": [],
   "source": [
    "# Inplement in python\n",
    "\n",
    "def cartesian_product(*args):\n",
    "    if not len(args):\n",
    "        yield ()\n",
    "    else:\n",
    "        for a in args[0]:\n",
    "            for prod in cartesian_product(*args[1:]):\n",
    "                yield (a,) + prod\n"
   ]
  },
  {
   "cell_type": "code",
   "execution_count": 27,
   "metadata": {},
   "outputs": [
    {
     "name": "stdout",
     "output_type": "stream",
     "text": [
      "[()]\n",
      "[(1, 3, 5), (1, 3, 6), (1, 4, 5), (1, 4, 6), (2, 3, 5), (2, 3, 6), (2, 4, 5), (2, 4, 6)]\n",
      "[(1,), (2,)]\n"
     ]
    }
   ],
   "source": [
    "# Test sets product\n",
    "print(list(cartesian_product()))\n",
    "print(list(cartesian_product([1,2],[3,4],[5,6])))\n",
    "print(list(cartesian_product([1,2])))\n"
   ]
  },
  {
   "cell_type": "markdown",
   "metadata": {},
   "source": [
    "#### Prove that:\n",
    "<br>\n",
    "$$A \\cap (B \\cup C)=(A \\cap B) \\cup (A\\cap C)$$\n",
    "$$A \\cup (B \\cap C)=(A \\cup B) \\cap (A\\cup C)$$"
   ]
  },
  {
   "cell_type": "markdown",
   "metadata": {},
   "source": [
    "$\\forall x$, $x \\in A \\cap(B \\cup C)$ $ \\rightleftarrows$ $x \\in A $ $\\land $ $x \\in (B \\cup C)$ $ \\rightleftarrows$ $x \\in A $ $\\land$ ($x \\in B \\lor x \\in C$) $ \\rightleftarrows$ ($x \\in A \\land x \\in B$) $\\lor$ ($x \\in A \\land x \\in C$)"
   ]
  },
  {
   "cell_type": "markdown",
   "metadata": {},
   "source": [
    "$\\forall x$, $x \\in A \\cup(B \\cap C)$ $ \\rightleftarrows$ $x \\in A $ $\\lor $ $x \\in (B \\cap C)$ $ \\rightleftarrows$ $x \\in A $ $\\lor$ ($x \\in B \\land x \\in C$) $ \\rightleftarrows$ ($x \\in A \\lor x \\in B$) $\\land$ ($x \\in A \\lor x \\in C$)"
   ]
  },
  {
   "cell_type": "markdown",
   "metadata": {},
   "source": [
    "# Linear Algebra"
   ]
  },
  {
   "cell_type": "markdown",
   "metadata": {},
   "source": [
    "#### Prove that:\n",
    "<br>\n",
    "$(AB)^{T} = B^{T}A^{T}$ for each pair of matrices $A, B \\in \\mathbb{R}^{n \\times m}$"
   ]
  },
  {
   "cell_type": "markdown",
   "metadata": {},
   "source": [
    "$(A B)_{i j}=\\sum_{k=1}^{n} a_{i k} b_{k j}$\n",
    "\n",
    "$\\left[(A B)_{i j}\\right]^{T}=\\sum_{k=1}^{n} a_{j k} b_{k i}$\n",
    "\n",
    "$(B A)_{i j}=\\sum_{k=1}^{n} b_{i k} a_{k i}$\n",
    "\n",
    "$B^{T} A^{T}=\\left(B_{i k}\\right)^{T}\\left(A_{k j}\\right)^{T}=\\sum_{k=1}^{n} b_{k i} a_{j k}=\\sum_{k=1}^{n} a_{j k} b_{k i}$\n"
   ]
  },
  {
   "cell_type": "markdown",
   "metadata": {},
   "source": [
    "## Functions on tensors"
   ]
  },
  {
   "cell_type": "markdown",
   "metadata": {},
   "source": [
    "#### Write combination for $XOR$ calculation"
   ]
  },
  {
   "cell_type": "code",
   "execution_count": null,
   "metadata": {},
   "outputs": [],
   "source": []
  }
 ],
 "metadata": {
  "kernelspec": {
   "display_name": "Python 3",
   "language": "python",
   "name": "python3"
  },
  "language_info": {
   "codemirror_mode": {
    "name": "ipython",
    "version": 3
   },
   "file_extension": ".py",
   "mimetype": "text/x-python",
   "name": "python",
   "nbconvert_exporter": "python",
   "pygments_lexer": "ipython3",
   "version": "3.7.5"
  }
 },
 "nbformat": 4,
 "nbformat_minor": 4
}
